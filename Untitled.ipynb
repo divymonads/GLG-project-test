{
 "cells": [
  {
   "cell_type": "code",
   "execution_count": 1,
   "id": "a4ab6988",
   "metadata": {},
   "outputs": [],
   "source": [
    "import pandas as pd"
   ]
  },
  {
   "cell_type": "code",
   "execution_count": 3,
   "id": "bb1380f7",
   "metadata": {},
   "outputs": [],
   "source": [
    "first_header = pd.read_csv('input/data_train_clean_1_aa').columns"
   ]
  },
  {
   "cell_type": "code",
   "execution_count": 4,
   "id": "c53beaf8",
   "metadata": {},
   "outputs": [
    {
     "data": {
      "text/plain": [
       "Index(['date', 'year', 'month', 'day', 'publication', 'title_article_cleaned'], dtype='object')"
      ]
     },
     "execution_count": 4,
     "metadata": {},
     "output_type": "execute_result"
    }
   ],
   "source": [
    "first_header"
   ]
  },
  {
   "cell_type": "code",
   "execution_count": 8,
   "id": "3fa2eaf1",
   "metadata": {},
   "outputs": [],
   "source": [
    "line_header = \"date,year,month,day,publication,title_article_cleaned\""
   ]
  },
  {
   "cell_type": "code",
   "execution_count": 13,
   "id": "d8074997",
   "metadata": {},
   "outputs": [
    {
     "name": "stdout",
     "output_type": "stream",
     "text": [
      "Index(['date', 'year', 'month', 'day', 'publication', 'title_article_cleaned'], dtype='object')\n",
      "Index(['date', 'year', 'month', 'day', 'publication', 'title_article_cleaned'], dtype='object')\n",
      "Index(['date', 'year', 'month', 'day', 'publication', 'title_article_cleaned'], dtype='object')\n",
      "Index(['date', 'year', 'month', 'day', 'publication', 'title_article_cleaned'], dtype='object')\n",
      "Index(['date', 'year', 'month', 'day', 'publication', 'title_article_cleaned'], dtype='object')\n",
      "Index(['date', 'year', 'month', 'day', 'publication', 'title_article_cleaned'], dtype='object')\n",
      "Index(['date', 'year', 'month', 'day', 'publication', 'title_article_cleaned'], dtype='object')\n",
      "Index(['date', 'year', 'month', 'day', 'publication', 'title_article_cleaned'], dtype='object')\n",
      "Index(['date', 'year', 'month', 'day', 'publication', 'title_article_cleaned'], dtype='object')\n",
      "Index(['date', 'year', 'month', 'day', 'publication', 'title_article_cleaned'], dtype='object')\n",
      "Index(['date', 'year', 'month', 'day', 'publication', 'title_article_cleaned'], dtype='object')\n",
      "Index(['date', 'year', 'month', 'day', 'publication', 'title_article_cleaned'], dtype='object')\n",
      "Index(['date', 'year', 'month', 'day', 'publication', 'title_article_cleaned'], dtype='object')\n",
      "Index(['date', 'year', 'month', 'day', 'publication', 'title_article_cleaned'], dtype='object')\n",
      "Index(['date', 'year', 'month', 'day', 'publication', 'title_article_cleaned'], dtype='object')\n",
      "Index(['date', 'year', 'month', 'day', 'publication', 'title_article_cleaned'], dtype='object')\n",
      "Index(['date', 'year', 'month', 'day', 'publication', 'title_article_cleaned'], dtype='object')\n",
      "Index(['date', 'year', 'month', 'day', 'publication', 'title_article_cleaned'], dtype='object')\n",
      "Index(['date', 'year', 'month', 'day', 'publication', 'title_article_cleaned'], dtype='object')\n",
      "Index(['date', 'year', 'month', 'day', 'publication', 'title_article_cleaned'], dtype='object')\n",
      "Index(['date', 'year', 'month', 'day', 'publication', 'title_article_cleaned'], dtype='object')\n",
      "Index(['date', 'year', 'month', 'day', 'publication', 'title_article_cleaned'], dtype='object')\n",
      "Index(['date', 'year', 'month', 'day', 'publication', 'title_article_cleaned'], dtype='object')\n",
      "Index(['date', 'year', 'month', 'day', 'publication', 'title_article_cleaned'], dtype='object')\n",
      "Index(['date', 'year', 'month', 'day', 'publication', 'title_article_cleaned'], dtype='object')\n",
      "Index(['date', 'year', 'month', 'day', 'publication', 'title_article_cleaned'], dtype='object')\n",
      "Index(['date', 'year', 'month', 'day', 'publication', 'title_article_cleaned'], dtype='object')\n",
      "Index(['date', 'year', 'month', 'day', 'publication', 'title_article_cleaned'], dtype='object')\n",
      "Index(['date', 'year', 'month', 'day', 'publication', 'title_article_cleaned'], dtype='object')\n",
      "Index(['date', 'year', 'month', 'day', 'publication', 'title_article_cleaned'], dtype='object')\n",
      "Index(['date', 'year', 'month', 'day', 'publication', 'title_article_cleaned'], dtype='object')\n",
      "Index(['date', 'year', 'month', 'day', 'publication', 'title_article_cleaned'], dtype='object')\n",
      "Index(['date', 'year', 'month', 'day', 'publication', 'title_article_cleaned'], dtype='object')\n",
      "Index(['date', 'year', 'month', 'day', 'publication', 'title_article_cleaned'], dtype='object')\n",
      "Index(['date', 'year', 'month', 'day', 'publication', 'title_article_cleaned'], dtype='object')\n",
      "Index(['date', 'year', 'month', 'day', 'publication', 'title_article_cleaned'], dtype='object')\n",
      "Index(['date', 'year', 'month', 'day', 'publication', 'title_article_cleaned'], dtype='object')\n",
      "Index(['date', 'year', 'month', 'day', 'publication', 'title_article_cleaned'], dtype='object')\n",
      "Index(['date', 'year', 'month', 'day', 'publication', 'title_article_cleaned'], dtype='object')\n",
      "Index(['date', 'year', 'month', 'day', 'publication', 'title_article_cleaned'], dtype='object')\n",
      "Index(['date', 'year', 'month', 'day', 'publication', 'title_article_cleaned'], dtype='object')\n",
      "Index(['date', 'year', 'month', 'day', 'publication', 'title_article_cleaned'], dtype='object')\n",
      "Index(['date', 'year', 'month', 'day', 'publication', 'title_article_cleaned'], dtype='object')\n",
      "Index(['date', 'year', 'month', 'day', 'publication', 'title_article_cleaned'], dtype='object')\n",
      "Index(['date', 'year', 'month', 'day', 'publication', 'title_article_cleaned'], dtype='object')\n",
      "Index(['date', 'year', 'month', 'day', 'publication', 'title_article_cleaned'], dtype='object')\n",
      "Index(['date', 'year', 'month', 'day', 'publication', 'title_article_cleaned'], dtype='object')\n",
      "Index(['date', 'year', 'month', 'day', 'publication', 'title_article_cleaned'], dtype='object')\n",
      "Index(['date', 'year', 'month', 'day', 'publication', 'title_article_cleaned'], dtype='object')\n",
      "Index(['date', 'year', 'month', 'day', 'publication', 'title_article_cleaned'], dtype='object')\n",
      "Index(['date', 'year', 'month', 'day', 'publication', 'title_article_cleaned'], dtype='object')\n",
      "Index(['date', 'year', 'month', 'day', 'publication', 'title_article_cleaned'], dtype='object')\n",
      "Index(['date', 'year', 'month', 'day', 'publication', 'title_article_cleaned'], dtype='object')\n",
      "Index(['date', 'year', 'month', 'day', 'publication', 'title_article_cleaned'], dtype='object')\n",
      "Index(['date', 'year', 'month', 'day', 'publication', 'title_article_cleaned'], dtype='object')\n",
      "Index(['date', 'year', 'month', 'day', 'publication', 'title_article_cleaned'], dtype='object')\n",
      "Index(['date', 'year', 'month', 'day', 'publication', 'title_article_cleaned'], dtype='object')\n",
      "Index(['date', 'year', 'month', 'day', 'publication', 'title_article_cleaned'], dtype='object')\n",
      "Index(['date', 'year', 'month', 'day', 'publication', 'title_article_cleaned'], dtype='object')\n",
      "Index(['date', 'year', 'month', 'day', 'publication', 'title_article_cleaned'], dtype='object')\n",
      "Index(['date', 'year', 'month', 'day', 'publication', 'title_article_cleaned'], dtype='object')\n",
      "Index(['date', 'year', 'month', 'day', 'publication', 'title_article_cleaned'], dtype='object')\n",
      "Index(['date', 'year', 'month', 'day', 'publication', 'title_article_cleaned'], dtype='object')\n"
     ]
    },
    {
     "ename": "UnicodeDecodeError",
     "evalue": "'utf-8' codec can't decode byte 0x80 in position 3131: invalid start byte",
     "output_type": "error",
     "traceback": [
      "\u001b[0;31m---------------------------------------------------------------------------\u001b[0m",
      "\u001b[0;31mUnicodeDecodeError\u001b[0m                        Traceback (most recent call last)",
      "\u001b[0;32m/var/folders/dd/9h9xdbtj2vs583__r3j4357r0000gn/T/ipykernel_91005/1427477555.py\u001b[0m in \u001b[0;36m<module>\u001b[0;34m\u001b[0m\n\u001b[1;32m      2\u001b[0m \u001b[0mname_list\u001b[0m \u001b[0;34m=\u001b[0m \u001b[0mos\u001b[0m\u001b[0;34m.\u001b[0m\u001b[0mlistdir\u001b[0m\u001b[0;34m(\u001b[0m\u001b[0;34m'./input'\u001b[0m\u001b[0;34m)\u001b[0m\u001b[0;34m\u001b[0m\u001b[0;34m\u001b[0m\u001b[0m\n\u001b[1;32m      3\u001b[0m \u001b[0;32mfor\u001b[0m \u001b[0mn\u001b[0m \u001b[0;32min\u001b[0m \u001b[0mname_list\u001b[0m\u001b[0;34m:\u001b[0m\u001b[0;34m\u001b[0m\u001b[0;34m\u001b[0m\u001b[0m\n\u001b[0;32m----> 4\u001b[0;31m     \u001b[0mdf\u001b[0m \u001b[0;34m=\u001b[0m \u001b[0mpd\u001b[0m\u001b[0;34m.\u001b[0m\u001b[0mread_csv\u001b[0m\u001b[0;34m(\u001b[0m\u001b[0;34m'input/'\u001b[0m \u001b[0;34m+\u001b[0m \u001b[0mn\u001b[0m\u001b[0;34m)\u001b[0m\u001b[0;34m\u001b[0m\u001b[0;34m\u001b[0m\u001b[0m\n\u001b[0m\u001b[1;32m      5\u001b[0m     \u001b[0mprint\u001b[0m\u001b[0;34m(\u001b[0m\u001b[0mdf\u001b[0m\u001b[0;34m.\u001b[0m\u001b[0mcolumns\u001b[0m\u001b[0;34m)\u001b[0m\u001b[0;34m\u001b[0m\u001b[0;34m\u001b[0m\u001b[0m\n",
      "\u001b[0;32m/opt/anaconda3/lib/python3.9/site-packages/pandas/util/_decorators.py\u001b[0m in \u001b[0;36mwrapper\u001b[0;34m(*args, **kwargs)\u001b[0m\n\u001b[1;32m    309\u001b[0m                     \u001b[0mstacklevel\u001b[0m\u001b[0;34m=\u001b[0m\u001b[0mstacklevel\u001b[0m\u001b[0;34m,\u001b[0m\u001b[0;34m\u001b[0m\u001b[0;34m\u001b[0m\u001b[0m\n\u001b[1;32m    310\u001b[0m                 )\n\u001b[0;32m--> 311\u001b[0;31m             \u001b[0;32mreturn\u001b[0m \u001b[0mfunc\u001b[0m\u001b[0;34m(\u001b[0m\u001b[0;34m*\u001b[0m\u001b[0margs\u001b[0m\u001b[0;34m,\u001b[0m \u001b[0;34m**\u001b[0m\u001b[0mkwargs\u001b[0m\u001b[0;34m)\u001b[0m\u001b[0;34m\u001b[0m\u001b[0;34m\u001b[0m\u001b[0m\n\u001b[0m\u001b[1;32m    312\u001b[0m \u001b[0;34m\u001b[0m\u001b[0m\n\u001b[1;32m    313\u001b[0m         \u001b[0;32mreturn\u001b[0m \u001b[0mwrapper\u001b[0m\u001b[0;34m\u001b[0m\u001b[0;34m\u001b[0m\u001b[0m\n",
      "\u001b[0;32m/opt/anaconda3/lib/python3.9/site-packages/pandas/io/parsers/readers.py\u001b[0m in \u001b[0;36mread_csv\u001b[0;34m(filepath_or_buffer, sep, delimiter, header, names, index_col, usecols, squeeze, prefix, mangle_dupe_cols, dtype, engine, converters, true_values, false_values, skipinitialspace, skiprows, skipfooter, nrows, na_values, keep_default_na, na_filter, verbose, skip_blank_lines, parse_dates, infer_datetime_format, keep_date_col, date_parser, dayfirst, cache_dates, iterator, chunksize, compression, thousands, decimal, lineterminator, quotechar, quoting, doublequote, escapechar, comment, encoding, encoding_errors, dialect, error_bad_lines, warn_bad_lines, on_bad_lines, delim_whitespace, low_memory, memory_map, float_precision, storage_options)\u001b[0m\n\u001b[1;32m    584\u001b[0m     \u001b[0mkwds\u001b[0m\u001b[0;34m.\u001b[0m\u001b[0mupdate\u001b[0m\u001b[0;34m(\u001b[0m\u001b[0mkwds_defaults\u001b[0m\u001b[0;34m)\u001b[0m\u001b[0;34m\u001b[0m\u001b[0;34m\u001b[0m\u001b[0m\n\u001b[1;32m    585\u001b[0m \u001b[0;34m\u001b[0m\u001b[0m\n\u001b[0;32m--> 586\u001b[0;31m     \u001b[0;32mreturn\u001b[0m \u001b[0m_read\u001b[0m\u001b[0;34m(\u001b[0m\u001b[0mfilepath_or_buffer\u001b[0m\u001b[0;34m,\u001b[0m \u001b[0mkwds\u001b[0m\u001b[0;34m)\u001b[0m\u001b[0;34m\u001b[0m\u001b[0;34m\u001b[0m\u001b[0m\n\u001b[0m\u001b[1;32m    587\u001b[0m \u001b[0;34m\u001b[0m\u001b[0m\n\u001b[1;32m    588\u001b[0m \u001b[0;34m\u001b[0m\u001b[0m\n",
      "\u001b[0;32m/opt/anaconda3/lib/python3.9/site-packages/pandas/io/parsers/readers.py\u001b[0m in \u001b[0;36m_read\u001b[0;34m(filepath_or_buffer, kwds)\u001b[0m\n\u001b[1;32m    480\u001b[0m \u001b[0;34m\u001b[0m\u001b[0m\n\u001b[1;32m    481\u001b[0m     \u001b[0;31m# Create the parser.\u001b[0m\u001b[0;34m\u001b[0m\u001b[0;34m\u001b[0m\u001b[0m\n\u001b[0;32m--> 482\u001b[0;31m     \u001b[0mparser\u001b[0m \u001b[0;34m=\u001b[0m \u001b[0mTextFileReader\u001b[0m\u001b[0;34m(\u001b[0m\u001b[0mfilepath_or_buffer\u001b[0m\u001b[0;34m,\u001b[0m \u001b[0;34m**\u001b[0m\u001b[0mkwds\u001b[0m\u001b[0;34m)\u001b[0m\u001b[0;34m\u001b[0m\u001b[0;34m\u001b[0m\u001b[0m\n\u001b[0m\u001b[1;32m    483\u001b[0m \u001b[0;34m\u001b[0m\u001b[0m\n\u001b[1;32m    484\u001b[0m     \u001b[0;32mif\u001b[0m \u001b[0mchunksize\u001b[0m \u001b[0;32mor\u001b[0m \u001b[0miterator\u001b[0m\u001b[0;34m:\u001b[0m\u001b[0;34m\u001b[0m\u001b[0;34m\u001b[0m\u001b[0m\n",
      "\u001b[0;32m/opt/anaconda3/lib/python3.9/site-packages/pandas/io/parsers/readers.py\u001b[0m in \u001b[0;36m__init__\u001b[0;34m(self, f, engine, **kwds)\u001b[0m\n\u001b[1;32m    809\u001b[0m             \u001b[0mself\u001b[0m\u001b[0;34m.\u001b[0m\u001b[0moptions\u001b[0m\u001b[0;34m[\u001b[0m\u001b[0;34m\"has_index_names\"\u001b[0m\u001b[0;34m]\u001b[0m \u001b[0;34m=\u001b[0m \u001b[0mkwds\u001b[0m\u001b[0;34m[\u001b[0m\u001b[0;34m\"has_index_names\"\u001b[0m\u001b[0;34m]\u001b[0m\u001b[0;34m\u001b[0m\u001b[0;34m\u001b[0m\u001b[0m\n\u001b[1;32m    810\u001b[0m \u001b[0;34m\u001b[0m\u001b[0m\n\u001b[0;32m--> 811\u001b[0;31m         \u001b[0mself\u001b[0m\u001b[0;34m.\u001b[0m\u001b[0m_engine\u001b[0m \u001b[0;34m=\u001b[0m \u001b[0mself\u001b[0m\u001b[0;34m.\u001b[0m\u001b[0m_make_engine\u001b[0m\u001b[0;34m(\u001b[0m\u001b[0mself\u001b[0m\u001b[0;34m.\u001b[0m\u001b[0mengine\u001b[0m\u001b[0;34m)\u001b[0m\u001b[0;34m\u001b[0m\u001b[0;34m\u001b[0m\u001b[0m\n\u001b[0m\u001b[1;32m    812\u001b[0m \u001b[0;34m\u001b[0m\u001b[0m\n\u001b[1;32m    813\u001b[0m     \u001b[0;32mdef\u001b[0m \u001b[0mclose\u001b[0m\u001b[0;34m(\u001b[0m\u001b[0mself\u001b[0m\u001b[0;34m)\u001b[0m\u001b[0;34m:\u001b[0m\u001b[0;34m\u001b[0m\u001b[0;34m\u001b[0m\u001b[0m\n",
      "\u001b[0;32m/opt/anaconda3/lib/python3.9/site-packages/pandas/io/parsers/readers.py\u001b[0m in \u001b[0;36m_make_engine\u001b[0;34m(self, engine)\u001b[0m\n\u001b[1;32m   1038\u001b[0m             )\n\u001b[1;32m   1039\u001b[0m         \u001b[0;31m# error: Too many arguments for \"ParserBase\"\u001b[0m\u001b[0;34m\u001b[0m\u001b[0;34m\u001b[0m\u001b[0m\n\u001b[0;32m-> 1040\u001b[0;31m         \u001b[0;32mreturn\u001b[0m \u001b[0mmapping\u001b[0m\u001b[0;34m[\u001b[0m\u001b[0mengine\u001b[0m\u001b[0;34m]\u001b[0m\u001b[0;34m(\u001b[0m\u001b[0mself\u001b[0m\u001b[0;34m.\u001b[0m\u001b[0mf\u001b[0m\u001b[0;34m,\u001b[0m \u001b[0;34m**\u001b[0m\u001b[0mself\u001b[0m\u001b[0;34m.\u001b[0m\u001b[0moptions\u001b[0m\u001b[0;34m)\u001b[0m  \u001b[0;31m# type: ignore[call-arg]\u001b[0m\u001b[0;34m\u001b[0m\u001b[0;34m\u001b[0m\u001b[0m\n\u001b[0m\u001b[1;32m   1041\u001b[0m \u001b[0;34m\u001b[0m\u001b[0m\n\u001b[1;32m   1042\u001b[0m     \u001b[0;32mdef\u001b[0m \u001b[0m_failover_to_python\u001b[0m\u001b[0;34m(\u001b[0m\u001b[0mself\u001b[0m\u001b[0;34m)\u001b[0m\u001b[0;34m:\u001b[0m\u001b[0;34m\u001b[0m\u001b[0;34m\u001b[0m\u001b[0m\n",
      "\u001b[0;32m/opt/anaconda3/lib/python3.9/site-packages/pandas/io/parsers/c_parser_wrapper.py\u001b[0m in \u001b[0;36m__init__\u001b[0;34m(self, src, **kwds)\u001b[0m\n\u001b[1;32m     67\u001b[0m         \u001b[0mkwds\u001b[0m\u001b[0;34m[\u001b[0m\u001b[0;34m\"dtype\"\u001b[0m\u001b[0;34m]\u001b[0m \u001b[0;34m=\u001b[0m \u001b[0mensure_dtype_objs\u001b[0m\u001b[0;34m(\u001b[0m\u001b[0mkwds\u001b[0m\u001b[0;34m.\u001b[0m\u001b[0mget\u001b[0m\u001b[0;34m(\u001b[0m\u001b[0;34m\"dtype\"\u001b[0m\u001b[0;34m,\u001b[0m \u001b[0;32mNone\u001b[0m\u001b[0;34m)\u001b[0m\u001b[0;34m)\u001b[0m\u001b[0;34m\u001b[0m\u001b[0;34m\u001b[0m\u001b[0m\n\u001b[1;32m     68\u001b[0m         \u001b[0;32mtry\u001b[0m\u001b[0;34m:\u001b[0m\u001b[0;34m\u001b[0m\u001b[0;34m\u001b[0m\u001b[0m\n\u001b[0;32m---> 69\u001b[0;31m             \u001b[0mself\u001b[0m\u001b[0;34m.\u001b[0m\u001b[0m_reader\u001b[0m \u001b[0;34m=\u001b[0m \u001b[0mparsers\u001b[0m\u001b[0;34m.\u001b[0m\u001b[0mTextReader\u001b[0m\u001b[0;34m(\u001b[0m\u001b[0mself\u001b[0m\u001b[0;34m.\u001b[0m\u001b[0mhandles\u001b[0m\u001b[0;34m.\u001b[0m\u001b[0mhandle\u001b[0m\u001b[0;34m,\u001b[0m \u001b[0;34m**\u001b[0m\u001b[0mkwds\u001b[0m\u001b[0;34m)\u001b[0m\u001b[0;34m\u001b[0m\u001b[0;34m\u001b[0m\u001b[0m\n\u001b[0m\u001b[1;32m     70\u001b[0m         \u001b[0;32mexcept\u001b[0m \u001b[0mException\u001b[0m\u001b[0;34m:\u001b[0m\u001b[0;34m\u001b[0m\u001b[0;34m\u001b[0m\u001b[0m\n\u001b[1;32m     71\u001b[0m             \u001b[0mself\u001b[0m\u001b[0;34m.\u001b[0m\u001b[0mhandles\u001b[0m\u001b[0;34m.\u001b[0m\u001b[0mclose\u001b[0m\u001b[0;34m(\u001b[0m\u001b[0;34m)\u001b[0m\u001b[0;34m\u001b[0m\u001b[0;34m\u001b[0m\u001b[0m\n",
      "\u001b[0;32m/opt/anaconda3/lib/python3.9/site-packages/pandas/_libs/parsers.pyx\u001b[0m in \u001b[0;36mpandas._libs.parsers.TextReader.__cinit__\u001b[0;34m()\u001b[0m\n",
      "\u001b[0;32m/opt/anaconda3/lib/python3.9/site-packages/pandas/_libs/parsers.pyx\u001b[0m in \u001b[0;36mpandas._libs.parsers.TextReader._get_header\u001b[0;34m()\u001b[0m\n",
      "\u001b[0;32m/opt/anaconda3/lib/python3.9/site-packages/pandas/_libs/parsers.pyx\u001b[0m in \u001b[0;36mpandas._libs.parsers.TextReader._tokenize_rows\u001b[0;34m()\u001b[0m\n",
      "\u001b[0;32m/opt/anaconda3/lib/python3.9/site-packages/pandas/_libs/parsers.pyx\u001b[0m in \u001b[0;36mpandas._libs.parsers.raise_parser_error\u001b[0;34m()\u001b[0m\n",
      "\u001b[0;31mUnicodeDecodeError\u001b[0m: 'utf-8' codec can't decode byte 0x80 in position 3131: invalid start byte"
     ]
    }
   ],
   "source": [
    "import os\n",
    "name_list = os.listdir('./input')\n",
    "for n in name_list:\n",
    "    df = pd.read_csv('input/' + n)\n",
    "    print(df.columns)"
   ]
  },
  {
   "cell_type": "code",
   "execution_count": null,
   "id": "c33bbf76",
   "metadata": {},
   "outputs": [],
   "source": [
    "import pandas as pd\n",
    "pd.read_csv(FILENAME)"
   ]
  },
  {
   "cell_type": "code",
   "execution_count": null,
   "id": "bc26b345",
   "metadata": {},
   "outputs": [],
   "source": [
    "from nltk.tokenize import word_tokenize\n",
    "\n",
    "df_train['tokens'] = df_train.apply(lambda row: word_tokenize(row['title_article_cleaned']), axis = 1)"
   ]
  },
  {
   "cell_type": "code",
   "execution_count": null,
   "id": "a14d31c6",
   "metadata": {},
   "outputs": [],
   "source": [
    "# Gensim\n",
    "import gensim, spacy, logging, warnings\n",
    "import gensim.corpora as corpora\n",
    "from gensim.utils import lemmatize, simple_preprocess\n",
    "def make_bigrams(texts):\n",
    "    return [bigram_mod[doc] for doc in texts]\n",
    "\n",
    "def make_trigrams(texts):\n",
    "    return [trigram_mod[bigram_mod[doc]] for doc in texts]\n",
    "\n",
    "def lemmatization(nlp_model, texts, allowed_postags=['NOUN', 'ADJ', 'VERB', 'ADV']):\n",
    "    \"\"\"https://spacy.io/api/annotation\"\"\"\n",
    "    texts_out = []\n",
    "    allowed_postags_set = set(allowed_postags)\n",
    "    for sent in texts:\n",
    "        doc = nlp_model(\" \".join(sent)) \n",
    "        texts_out.append([token.lemma_ for token in doc if token.pos_ in allowed_postags_set])\n",
    "    return texts_out"
   ]
  },
  {
   "cell_type": "code",
   "execution_count": null,
   "id": "e24933ee",
   "metadata": {},
   "outputs": [],
   "source": [
    "# make bigrams\n",
    "token_words = df_train['tokens']\n",
    "bigram = gensim.models.Phrases(token_words, min_count=5, threshold=100)\n",
    "bigram_mod = gensim.models.phrases.Phraser(bigram)\n",
    "token_words_bigrams = make_bigrams(token_words)"
   ]
  },
  {
   "cell_type": "code",
   "execution_count": null,
   "id": "e0504f68",
   "metadata": {},
   "outputs": [],
   "source": [
    "# make trigrams\n",
    "token_words_trigrams = make_trigrams(token_words)\n",
    "# lemmatization\n",
    "nlp = spacy.load(\"en_core_web_sm\", disable=['parser','ner'])\n",
    "token_words_trigrams_lemm = lemmatization(nlp, token_words_trigrams, \n",
    "    allowed_postags=['NOUN', 'ADJ', 'VERB', 'ADV'])"
   ]
  },
  {
   "cell_type": "code",
   "execution_count": null,
   "id": "9865945a",
   "metadata": {},
   "outputs": [],
   "source": [
    "# create a dictionary containing the number of times a word appears in the training dataset\n",
    "id2word = gensim.corpora.Dictionary(token_words_trigrams_lemm) "
   ]
  },
  {
   "cell_type": "code",
   "execution_count": null,
   "id": "b8e10fbb",
   "metadata": {},
   "outputs": [],
   "source": [
    "id2word.save(DICT_PATH)\n",
    "corpora.MmCorpus.serialize(CORPUS_PATH, corpus)"
   ]
  }
 ],
 "metadata": {
  "kernelspec": {
   "display_name": "Python 3 (ipykernel)",
   "language": "python",
   "name": "python3"
  },
  "language_info": {
   "codemirror_mode": {
    "name": "ipython",
    "version": 3
   },
   "file_extension": ".py",
   "mimetype": "text/x-python",
   "name": "python",
   "nbconvert_exporter": "python",
   "pygments_lexer": "ipython3",
   "version": "3.9.7"
  }
 },
 "nbformat": 4,
 "nbformat_minor": 5
}
